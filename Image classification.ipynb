{
 "cells": [
  {
   "cell_type": "code",
   "execution_count": 1,
   "id": "828f918c-a51e-47b4-850e-72d93be73dc7",
   "metadata": {},
   "outputs": [
    {
     "name": "stdout",
     "output_type": "stream",
     "text": [
      "Requirement already satisfied: opencv-python in c:\\users\\home\\anaconda3\\lib\\site-packages (4.10.0.82)Note: you may need to restart the kernel to use updated packages.\n",
      "\n",
      "Requirement already satisfied: numpy>=1.21.2 in c:\\users\\home\\anaconda3\\lib\\site-packages (from opencv-python) (1.26.4)\n"
     ]
    }
   ],
   "source": [
    "pip install opencv-python"
   ]
  },
  {
   "cell_type": "code",
   "execution_count": 200,
   "id": "d7095873-ba15-4dd2-b767-8fcc298dbccc",
   "metadata": {},
   "outputs": [],
   "source": [
    "import os\n",
    "import numpy as np\n",
    "import cv2\n",
    "import matplotlib.pyplot as plt\n",
    "import pickle\n",
    "import random\n",
    "from sklearn.model_selection import train_test_split\n",
    "from sklearn.svm import SVC\n"
   ]
  },
  {
   "cell_type": "code",
   "execution_count": 163,
   "id": "c7b237e5-35e5-4519-9435-ad2ec28eed8b",
   "metadata": {},
   "outputs": [],
   "source": [
    "dir = 'C:\\\\Users\\\\Home\\\\Desktop\\\\Tasks\\\\ImageClassif\\\\PetImages\\\\PetImages'"
   ]
  },
  {
   "cell_type": "code",
   "execution_count": 164,
   "id": "5d6a79cc-10a3-4029-b2b7-a2523201191a",
   "metadata": {},
   "outputs": [],
   "source": [
    "categories= ['Cat', 'Dog']\n",
    "\n",
    "data=[]"
   ]
  },
  {
   "cell_type": "code",
   "execution_count": 188,
   "id": "a7951611-4db1-4593-874a-fa5605fab3a4",
   "metadata": {},
   "outputs": [],
   "source": [
    "for category in categories:\n",
    "    path=os.path.join(dir,category)\n",
    "    label=categories.index(category)\n",
    "    for img in os.listdir(path):\n",
    "            imgpath=os.path.join(path,img)\n",
    "            pet_img=cv2.imread(imgpath,0)\n",
    "            try:\n",
    "                pet_img=cv2.resize(pet_img,(50,50))\n",
    "                image=np.array(pet_img).flatten()\n",
    "                data.append([image,label])\n",
    "            except Exception as e:\n",
    "                pass"
   ]
  },
  {
   "cell_type": "code",
   "execution_count": 189,
   "id": "d1b2b5e8-03b2-4aa7-affe-79cd2a6e4a9f",
   "metadata": {},
   "outputs": [],
   "source": [
    "pick_in=open('data1.pickle','wb')\n",
    "pickle.dump(data,pick_in)\n",
    "pick_in.close()"
   ]
  },
  {
   "cell_type": "code",
   "execution_count": 190,
   "id": "d1ebca7a-7fea-446a-89b5-30a62593212d",
   "metadata": {},
   "outputs": [],
   "source": [
    "pick_in=open('data1.pickle','rb')\n",
    "data=pickle.load(pick_in)\n",
    "pick_in.close()"
   ]
  },
  {
   "cell_type": "code",
   "execution_count": 199,
   "id": "67a45ed5-c56f-4077-a647-b48fa45dc6d0",
   "metadata": {},
   "outputs": [],
   "source": [
    "random.shuffle(data)\n",
    "features=[]\n",
    "labels=[]\n",
    "\n",
    "for feature, label in data:\n",
    "    features.append(feature)\n",
    "    labels.append(label)\n",
    "\n"
   ]
  },
  {
   "cell_type": "code",
   "execution_count": 198,
   "id": "473a9bd7-c286-4f6a-a06f-a9acb0a121ce",
   "metadata": {},
   "outputs": [],
   "source": [
    "xtrain, xtest, ytrain,ytest= train_test_split(features, labels, test_size=0.01)\n",
    "\n"
   ]
  },
  {
   "cell_type": "code",
   "execution_count": 209,
   "id": "72811012-d85a-4973-8b26-1f909631fd95",
   "metadata": {},
   "outputs": [
    {
     "name": "stdout",
     "output_type": "stream",
     "text": [
      "Accuracy is:  0.6613226452905812\n",
      "Prediction is:  Dog\n"
     ]
    },
    {
     "data": {
      "image/png": "[encoded data removed]",
      "text/plain": [
       "<Figure size 640x480 with 1 Axes>"
      ]
     },
     "metadata": {},
     "output_type": "display_data"
    }
   ],
   "source": [
    "#model= SVC(C=1, kernel='poly', gamma='auto')\n",
    "#model.fit(xtrain, ytrain)\n",
    "\n",
    "\n",
    "pick=open('model.sav','rb')\n",
    "model=pickle.load(pick)\n",
    "pick.close()\n",
    "prediction=model.predict(xtest)\n",
    "\n",
    "accuracy=model.score(xtest,ytest)\n",
    "\n",
    "categories=['Cat', 'Dog']\n",
    "\n",
    "print('Accuracy is: ', accuracy)\n",
    "print('Prediction is: ', categories[prediction[0]])\n",
    "\n",
    "mypet=xtest[0].reshape(50,50)\n",
    "plt.imshow(mypet, cmap='gray')\n",
    "plt.show()"
   ]
  }
 ],
 "metadata": {
  "kernelspec": {
   "display_name": "Python 3 (ipykernel)",
   "language": "python",
   "name": "python3"
  },
  "language_info": {
   "codemirror_mode": {
    "name": "ipython",
    "version": 3
   },
   "file_extension": ".py",
   "mimetype": "text/x-python",
   "name": "python",
   "nbconvert_exporter": "python",
   "pygments_lexer": "ipython3",
   "version": "3.11.7"
  }
 },
 "nbformat": 4,
 "nbformat_minor": 5
}
